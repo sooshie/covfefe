{
 "cells": [
  {
   "cell_type": "markdown",
   "metadata": {},
   "source": [
    "Inspired by @TychoTithonus'tweet:https://twitter.com/TychoTithonus/status/869793708358606848 and gist:https://gist.github.com/roycewilliams/9844489e552783c26e7ff76fbaac2523\n",
    "\n",
    "What does some off-the-cuff math say about Trump's likely typo?\n",
    "\n",
    "This looks at only 7 letter words, but with a bit coding you can add more word lists."
   ]
  },
  {
   "cell_type": "code",
   "execution_count": 1,
   "metadata": {
    "collapsed": true
   },
   "outputs": [],
   "source": [
    "import operator\n",
    "import jellyfish"
   ]
  },
  {
   "cell_type": "code",
   "execution_count": 2,
   "metadata": {
    "collapsed": true
   },
   "outputs": [],
   "source": [
    "#https://www.bestwordlist.com/7letterwords.htm\n",
    "with open(\"7letterwords.txt\") as f:\n",
    "    lines = f.readlines()\n",
    "#split the lines and make a flat list\n",
    "words = [item for sublist in [x.strip().split(' ') for x in lines] for item in sublist]"
   ]
  },
  {
   "cell_type": "code",
   "execution_count": 3,
   "metadata": {
    "collapsed": true
   },
   "outputs": [],
   "source": [
    "#https://github.com/alevchuk/pairwise-alignment-in-python\n",
    "#This software is a free software. Thus, it is licensed under GNU General Public License.\n",
    "#Python implementation to Smith-Waterman Algorithm for Homework 1 of Bioinformatics class.\n",
    "#Forrest Bao, Sept. 26 <http://fsbao.net> <forrest.bao aT gmail.com>\n",
    "\n",
    "# zeros() was origianlly from NumPy.\n",
    "# This version is implemented by alevchuk 2011-04-10\n",
    "def zeros(shape):\n",
    "    retval = []\n",
    "    for x in range(shape[0]):\n",
    "        retval.append([])\n",
    "        for y in range(shape[1]):\n",
    "            retval[-1].append(0)\n",
    "    return retval\n",
    "\n",
    "match_award      = 10\n",
    "mismatch_penalty = -5\n",
    "gap_penalty      = -5 # both for opening and extanding\n",
    "\n",
    "def match_score(alpha, beta):\n",
    "    if alpha == beta:\n",
    "        return match_award\n",
    "    elif alpha == '-' or beta == '-':\n",
    "        return gap_penalty\n",
    "    else:\n",
    "        return mismatch_penalty\n",
    "\n",
    "def finalize(align1, align2):\n",
    "    align1 = align1[::-1]    #reverse sequence 1\n",
    "    align2 = align2[::-1]    #reverse sequence 2\n",
    "    \n",
    "    i,j = 0,0\n",
    "    \n",
    "    #calcuate identity, score and aligned sequeces\n",
    "    symbol = ''\n",
    "    found = 0\n",
    "    score = 0\n",
    "    identity = 0\n",
    "    for i in range(0,len(align1)):\n",
    "        # if two AAs are the same, then output the letter\n",
    "        if align1[i] == align2[i]:                \n",
    "            symbol = symbol + align1[i]\n",
    "            identity = identity + 1\n",
    "            score += match_score(align1[i], align2[i])\n",
    "    \n",
    "        # if they are not identical and none of them is gap\n",
    "        elif align1[i] != align2[i] and align1[i] != '-' and align2[i] != '-': \n",
    "            score += match_score(align1[i], align2[i])\n",
    "            symbol += ' '\n",
    "            found = 0\n",
    "    \n",
    "        #if one of them is a gap, output a space\n",
    "        elif align1[i] == '-' or align2[i] == '-':          \n",
    "            symbol += ' '\n",
    "            score += gap_penalty\n",
    "    \n",
    "    identity = float(identity) / len(align1) * 100\n",
    "    \n",
    "    #print ('Identity =', \"%3.3f\" % identity, 'percent')\n",
    "    #print ('Score =', score)\n",
    "    #print (align1)\n",
    "    #print (symbol)\n",
    "    #print (align2)\n",
    "    return (identity, score)\n",
    "\n",
    "\n",
    "def needle(seq1, seq2):\n",
    "    m, n = len(seq1), len(seq2)  # length of two sequences\n",
    "    \n",
    "    # Generate DP table and traceback path pointer matrix\n",
    "    score = zeros((m+1, n+1))      # the DP table\n",
    "   \n",
    "    # Calculate DP table\n",
    "    for i in range(0, m + 1):\n",
    "        score[i][0] = gap_penalty * i\n",
    "    for j in range(0, n + 1):\n",
    "        score[0][j] = gap_penalty * j\n",
    "    for i in range(1, m + 1):\n",
    "        for j in range(1, n + 1):\n",
    "            match = score[i - 1][j - 1] + match_score(seq1[i-1], seq2[j-1])\n",
    "            delete = score[i - 1][j] + gap_penalty\n",
    "            insert = score[i][j - 1] + gap_penalty\n",
    "            score[i][j] = max(match, delete, insert)\n",
    "\n",
    "    # Traceback and compute the alignment \n",
    "    align1, align2 = '', ''\n",
    "    i,j = m,n # start from the bottom right cell\n",
    "    while i > 0 and j > 0: # end toching the top or the left edge\n",
    "        score_current = score[i][j]\n",
    "        score_diagonal = score[i-1][j-1]\n",
    "        score_up = score[i][j-1]\n",
    "        score_left = score[i-1][j]\n",
    "\n",
    "        if score_current == score_diagonal + match_score(seq1[i-1], seq2[j-1]):\n",
    "            align1 += seq1[i-1]\n",
    "            align2 += seq2[j-1]\n",
    "            i -= 1\n",
    "            j -= 1\n",
    "        elif score_current == score_left + gap_penalty:\n",
    "            align1 += seq1[i-1]\n",
    "            align2 += '-'\n",
    "            i -= 1\n",
    "        elif score_current == score_up + gap_penalty:\n",
    "            align1 += '-'\n",
    "            align2 += seq2[j-1]\n",
    "            j -= 1\n",
    "\n",
    "    # Finish tracing up to the top left cell\n",
    "    while i > 0:\n",
    "        align1 += seq1[i-1]\n",
    "        align2 += '-'\n",
    "        i -= 1\n",
    "    while j > 0:\n",
    "        align1 += '-'\n",
    "        align2 += seq2[j-1]\n",
    "        j -= 1\n",
    "\n",
    "    return finalize(align1, align2)\n",
    "\n",
    "def water(seq1, seq2):\n",
    "    m, n = len(seq1), len(seq2)  # length of two sequences\n",
    "    \n",
    "    # Generate DP table and traceback path pointer matrix\n",
    "    score = zeros((m+1, n+1))      # the DP table\n",
    "    pointer = zeros((m+1, n+1))    # to store the traceback path\n",
    "    \n",
    "    max_score = 0        # initial maximum score in DP table\n",
    "    # Calculate DP table and mark pointers\n",
    "    for i in range(1, m + 1):\n",
    "        for j in range(1, n + 1):\n",
    "            score_diagonal = score[i-1][j-1] + match_score(seq1[i-1], seq2[j-1])\n",
    "            score_up = score[i][j-1] + gap_penalty\n",
    "            score_left = score[i-1][j] + gap_penalty\n",
    "            score[i][j] = max(0,score_left, score_up, score_diagonal)\n",
    "            if score[i][j] == 0:\n",
    "                pointer[i][j] = 0 # 0 means end of the path\n",
    "            if score[i][j] == score_left:\n",
    "                pointer[i][j] = 1 # 1 means trace up\n",
    "            if score[i][j] == score_up:\n",
    "                pointer[i][j] = 2 # 2 means trace left\n",
    "            if score[i][j] == score_diagonal:\n",
    "                pointer[i][j] = 3 # 3 means trace diagonal\n",
    "            if score[i][j] >= max_score:\n",
    "                max_i = i\n",
    "                max_j = j\n",
    "                max_score = score[i][j];\n",
    "    \n",
    "    align1, align2 = '', ''    # initial sequences\n",
    "    \n",
    "    i,j = max_i,max_j    # indices of path starting point\n",
    "    \n",
    "    #traceback, follow pointers\n",
    "    while pointer[i][j] != 0:\n",
    "        if pointer[i][j] == 3:\n",
    "            align1 += seq1[i-1]\n",
    "            align2 += seq2[j-1]\n",
    "            i -= 1\n",
    "            j -= 1\n",
    "        elif pointer[i][j] == 2:\n",
    "            align1 += '-'\n",
    "            align2 += seq2[j-1]\n",
    "            j -= 1\n",
    "        elif pointer[i][j] == 1:\n",
    "            align1 += seq1[i-1]\n",
    "            align2 += '-'\n",
    "            i -= 1\n",
    "\n",
    "    return finalize(align1, align2)\n"
   ]
  },
  {
   "cell_type": "code",
   "execution_count": 4,
   "metadata": {
    "collapsed": true
   },
   "outputs": [],
   "source": [
    "needle_results = {}\n",
    "for word in words:\n",
    "    results = needle(word, \"COVFEFE\")\n",
    "    if results[0] > 50:\n",
    "        needle_results[word] = results[0]"
   ]
  },
  {
   "cell_type": "code",
   "execution_count": 5,
   "metadata": {
    "collapsed": true
   },
   "outputs": [],
   "source": [
    "levenshtein_results = {}\n",
    "for word in words:\n",
    "    distance = jellyfish.levenshtein_distance(word, \"COVFEFE\")\n",
    "    if distance < 4:\n",
    "        levenshtein_results[word] = distance"
   ]
  },
  {
   "cell_type": "code",
   "execution_count": 6,
   "metadata": {
    "collapsed": true
   },
   "outputs": [],
   "source": [
    "jaro_results = {}\n",
    "for word in words:\n",
    "    distance = jellyfish.jaro_distance(word, \"COVFEFE\")\n",
    "    if distance > .7:\n",
    "        jaro_results[word] = distance"
   ]
  },
  {
   "cell_type": "code",
   "execution_count": 7,
   "metadata": {
    "collapsed": true
   },
   "outputs": [],
   "source": [
    "possibilities = set(set(jaro_results.keys()).intersection(set(levenshtein_results.keys()))).intersection(set(needle_results))"
   ]
  },
  {
   "cell_type": "code",
   "execution_count": 8,
   "metadata": {
    "collapsed": true
   },
   "outputs": [],
   "source": [
    "sorted_possibilities = []\n",
    "for p in possibilities:\n",
    "    sorted_possibilities.append((p, levenshtein_results[p], \n",
    "                                 \"{:3.3f}\".format(jaro_results[p]*100), \n",
    "                                 \"{:3.3f}\".format(needle_results[p])))"
   ]
  },
  {
   "cell_type": "code",
   "execution_count": 9,
   "metadata": {},
   "outputs": [
    {
     "data": {
      "text/plain": [
       "[('COMPETE', 3, '71.429', '57.143'),\n",
       " ('CONFESS', 3, '71.429', '57.143'),\n",
       " ('COMMERE', 3, '71.429', '57.143'),\n",
       " ('CORNEAE', 3, '71.429', '57.143'),\n",
       " ('COLLEGE', 3, '71.429', '57.143'),\n",
       " ('SOLFEGE', 3, '71.429', '57.143'),\n",
       " ('CONFEST', 3, '71.429', '57.143'),\n",
       " ('CONFECT', 3, '71.429', '57.143'),\n",
       " ('CONFUTE', 3, '71.429', '57.143'),\n",
       " ('CONFINE', 3, '71.429', '57.143'),\n",
       " ('COCKEYE', 3, '71.429', '57.143'),\n",
       " ('CORTEGE', 3, '71.429', '57.143'),\n",
       " ('CONFERS', 3, '71.429', '57.143'),\n",
       " ('COMPERE', 3, '71.429', '57.143'),\n",
       " ('CONCEDE', 3, '71.429', '57.143'),\n",
       " ('CONFUSE', 3, '71.429', '57.143'),\n",
       " ('CONFIDE', 3, '71.429', '57.143'),\n",
       " ('COFFERS', 3, '74.286', '55.556'),\n",
       " ('COIFFES', 3, '74.286', '62.500'),\n",
       " ('COIFFED', 3, '74.286', '62.500'),\n",
       " ('CONVENE', 3, '80.952', '62.500'),\n",
       " ('COVERER', 3, '80.952', '62.500'),\n",
       " ('COVETER', 3, '80.952', '62.500'),\n",
       " ('COVETED', 3, '80.952', '62.500'),\n",
       " ('COVERED', 3, '80.952', '62.500'),\n",
       " ('COVELET', 3, '80.952', '62.500'),\n",
       " ('COFFEES', 3, '84.921', '62.500')]"
      ]
     },
     "execution_count": 9,
     "metadata": {},
     "output_type": "execute_result"
    }
   ],
   "source": [
    "sorted_possibilities.sort(key=lambda tup: tup[2])\n",
    "sorted_possibilities"
   ]
  },
  {
   "cell_type": "markdown",
   "metadata": {
    "collapsed": true
   },
   "source": [
    "Well, \"COVERED\" appears in the top 10 most similar words. While not the most similar it's tied for second."
   ]
  }
 ],
 "metadata": {
  "kernelspec": {
   "display_name": "Python 3",
   "language": "python",
   "name": "python3"
  },
  "language_info": {
   "codemirror_mode": {
    "name": "ipython",
    "version": 3
   },
   "file_extension": ".py",
   "mimetype": "text/x-python",
   "name": "python",
   "nbconvert_exporter": "python",
   "pygments_lexer": "ipython3",
   "version": "3.6.1"
  }
 },
 "nbformat": 4,
 "nbformat_minor": 2
}
